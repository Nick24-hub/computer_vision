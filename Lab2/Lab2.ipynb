{
 "cells": [
  {
   "cell_type": "code",
   "execution_count": 1,
   "id": "fb1328e4",
   "metadata": {},
   "outputs": [],
   "source": [
    "import cv2\n",
    "import numpy as np"
   ]
  },
  {
   "cell_type": "code",
   "execution_count": 2,
   "id": "fb172bc1",
   "metadata": {},
   "outputs": [
    {
     "name": "stdout",
     "output_type": "stream",
     "text": [
      "The shape of the image is:  (512, 512, 3)\n"
     ]
    }
   ],
   "source": [
    "image = cv2.imread('lena.tif')\n",
    "\n",
    "print(\"The shape of the image is: \", image.shape)\n",
    "\n",
    "cv2.imshow(\"lena.tif\",image)\n",
    "cv2.waitKey()\n",
    "cv2.destroyWindow(\"lena.tif\")"
   ]
  },
  {
   "cell_type": "markdown",
   "id": "b0a109c0",
   "metadata": {},
   "source": [
    "## 1. Simple averaging"
   ]
  },
  {
   "cell_type": "code",
   "execution_count": 3,
   "id": "cfee8797",
   "metadata": {},
   "outputs": [],
   "source": [
    "image = cv2.imread('lena.tif')\n",
    "blue = image[:,:,0]\n",
    "green = image[:,:,1]\n",
    "red = image[:,:,2]\n",
    "simple_avg = image\n",
    "\n",
    "Average_Gray = blue/3+green/3+red/3\n",
    "simple_avg[: , :, 0] = simple_avg[: , :, 1] =  simple_avg[: , :, 2] = Average_Gray[:, :]\n",
    "\n",
    "cv2.imshow(\"lena.tif\", simple_avg)\n",
    "cv2.waitKey()\n",
    "cv2.destroyWindow(\"lena.tif\")"
   ]
  },
  {
   "cell_type": "markdown",
   "id": "e8087001",
   "metadata": {},
   "source": [
    "## 2. Weighted average"
   ]
  },
  {
   "cell_type": "code",
   "execution_count": 4,
   "id": "8531af07",
   "metadata": {},
   "outputs": [],
   "source": [
    "image = cv2.imread('lena.tif')\n",
    "blue = image[:,:,0]\n",
    "green = image[:,:,1]\n",
    "red = image[:,:,2]\n",
    "weighted_gray1 = (0.11 * blue) + (0.59 * green) + (0.3 * red)\n",
    "\n",
    "weighted_avg1 = image  \n",
    "weighted_avg1[: , :, 0] = weighted_avg1[: , :, 1] =  weighted_avg1[: , :, 2] = weighted_gray1[:, :]\n",
    "\n",
    "cv2.imshow(\"lena.tif\",weighted_avg1)\n",
    "cv2.waitKey()\n",
    "cv2.destroyWindow(\"lena.tif\")"
   ]
  },
  {
   "cell_type": "code",
   "execution_count": 5,
   "id": "1fa37f2e",
   "metadata": {},
   "outputs": [],
   "source": [
    "image = cv2.imread('lena.tif')\n",
    "blue = image[:,:,0]\n",
    "green = image[:,:,1]\n",
    "red = image[:,:,2]\n",
    "weighted_gray2 = (0.0722 * blue) + (0.7152 * green) + (0.2126 * red)\n",
    "\n",
    "weighted_avg2 = image  \n",
    "weighted_avg2[: , :, 0] = weighted_avg2[: , :, 1] =  weighted_avg2[: , :, 2] = weighted_gray2[:, :]\n",
    "\n",
    "\n",
    "cv2.imshow(\"lena.tif\",weighted_avg2)\n",
    "cv2.waitKey()\n",
    "cv2.destroyWindow(\"lena.tif\")"
   ]
  },
  {
   "cell_type": "code",
   "execution_count": 6,
   "id": "ff6c84b9",
   "metadata": {},
   "outputs": [],
   "source": [
    "image = cv2.imread('lena.tif')\n",
    "blue = image[:,:,0]\n",
    "green = image[:,:,1]\n",
    "red = image[:,:,2]\n",
    "weighted_gray3 = (0.114 * blue) + (0.587 * green) + (0.299 * red)\n",
    "\n",
    "weighted_avg3 = image  \n",
    "weighted_avg3[: , :, 0] = weighted_avg3[: , :, 1] =  weighted_avg3[: , :, 2] = weighted_gray3[:, :]\n",
    "\n",
    "\n",
    "cv2.imshow(\"lena.tif\",weighted_avg3)\n",
    "cv2.waitKey()\n",
    "cv2.destroyWindow(\"lena.tif\")"
   ]
  },
  {
   "cell_type": "markdown",
   "id": "962c5bac",
   "metadata": {},
   "source": [
    "## 3. Desaturation"
   ]
  },
  {
   "cell_type": "code",
   "execution_count": 16,
   "id": "b769bda5",
   "metadata": {},
   "outputs": [],
   "source": [
    "image = cv2.imread('lena.tif')\n",
    "\n",
    "desaturation = image\n",
    "for i in range(len(image)):\n",
    "    for j in range(len(image[0])):\n",
    "        for c in range(3):\n",
    "            desaturation[i][j][c] = min(image[i][j][0], image[i][j][1], image[i][j][2])/2 + max(image[i][j][0], image[i][j][1], image[i][j][2])/2\n",
    "\n",
    "cv2.imshow(\"lena.tif\",desaturation)\n",
    "cv2.waitKey()\n",
    "cv2.destroyWindow(\"lena.tif\")"
   ]
  },
  {
   "cell_type": "markdown",
   "id": "260bc603",
   "metadata": {},
   "source": [
    "## 4. Decomposition"
   ]
  },
  {
   "cell_type": "code",
   "execution_count": 17,
   "id": "38373299",
   "metadata": {},
   "outputs": [],
   "source": [
    "image = cv2.imread('lena.tif')\n",
    "\n",
    "max_decomposition = image\n",
    "for i in range(len(image)):\n",
    "    for j in range(len(image[0])):\n",
    "        for c in range(3):\n",
    "            max_decomposition[i][j][c] = max(image[i][j][0], image[i][j][1], image[i][j][2])\n",
    "\n",
    "cv2.imshow(\"lena.tif\",max_decomposition)\n",
    "cv2.waitKey()\n",
    "cv2.destroyWindow(\"lena.tif\")"
   ]
  },
  {
   "cell_type": "code",
   "execution_count": 18,
   "id": "1e08c63a",
   "metadata": {},
   "outputs": [],
   "source": [
    "image = cv2.imread('lena.tif')\n",
    "\n",
    "min_decomposition = image\n",
    "for i in range(len(image)):\n",
    "    for j in range(len(image[0])):\n",
    "        for c in range(3):\n",
    "            min_decomposition[i][j][c] = min(image[i][j][0], image[i][j][1], image[i][j][2])\n",
    "\n",
    "cv2.imshow(\"lena.tif\",min_decomposition)\n",
    "cv2.waitKey()\n",
    "cv2.destroyWindow(\"lena.tif\")"
   ]
  },
  {
   "cell_type": "markdown",
   "id": "2b7b81e7",
   "metadata": {},
   "source": [
    "## 5. Single color channel "
   ]
  },
  {
   "cell_type": "code",
   "execution_count": 23,
   "id": "c9c1879b",
   "metadata": {},
   "outputs": [],
   "source": [
    "image = cv2.imread('lena.tif')\n",
    "\n",
    "red = image[:,:,2]\n",
    "\n",
    "red_image = image  \n",
    "red_image[: , :, 0] = red_image[: , :, 1] =  red_image[: , :, 2] = red[:, :]\n",
    "      \n",
    "cv2.imshow(\"lena.tif\",red_image)\n",
    "cv2.waitKey()\n",
    "cv2.destroyWindow(\"lena.tif\")"
   ]
  },
  {
   "cell_type": "code",
   "execution_count": 24,
   "id": "b870eb78",
   "metadata": {},
   "outputs": [],
   "source": [
    "image = cv2.imread('lena.tif')\n",
    "\n",
    "green = image[:,:,1]\n",
    "\n",
    "green_image = image  \n",
    "green_image[: , :, 0] = green_image[: , :, 1] =  green_image[: , :, 2] = green[:, :]\n",
    "      \n",
    "cv2.imshow(\"lena.tif\",green_image)\n",
    "cv2.waitKey()\n",
    "cv2.destroyWindow(\"lena.tif\")"
   ]
  },
  {
   "cell_type": "code",
   "execution_count": 25,
   "id": "92ffeef4",
   "metadata": {},
   "outputs": [],
   "source": [
    "image = cv2.imread('lena.tif')\n",
    "\n",
    "blue = image[:,:,0]\n",
    "\n",
    "blue_image = image  \n",
    "blue_image[: , :, 0] = blue_image[: , :, 1] =  blue_image[: , :, 2] = blue[:, :]\n",
    "      \n",
    "cv2.imshow(\"lena.tif\",blue_image)\n",
    "cv2.waitKey()\n",
    "cv2.destroyWindow(\"lena.tif\")"
   ]
  },
  {
   "cell_type": "code",
   "execution_count": null,
   "id": "6e322f46",
   "metadata": {},
   "outputs": [],
   "source": []
  }
 ],
 "metadata": {
  "kernelspec": {
   "display_name": "Python 3 (ipykernel)",
   "language": "python",
   "name": "python3"
  },
  "language_info": {
   "codemirror_mode": {
    "name": "ipython",
    "version": 3
   },
   "file_extension": ".py",
   "mimetype": "text/x-python",
   "name": "python",
   "nbconvert_exporter": "python",
   "pygments_lexer": "ipython3",
   "version": "3.9.15"
  }
 },
 "nbformat": 4,
 "nbformat_minor": 5
}
