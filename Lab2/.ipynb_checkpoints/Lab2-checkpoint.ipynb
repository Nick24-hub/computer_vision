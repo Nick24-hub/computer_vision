{
 "cells": [
  {
   "cell_type": "code",
   "execution_count": 17,
   "id": "6e4d98eb",
   "metadata": {},
   "outputs": [],
   "source": [
    "import cv2\n",
    "import numpy as np"
   ]
  },
  {
   "cell_type": "code",
   "execution_count": 45,
   "id": "a944c31b",
   "metadata": {},
   "outputs": [
    {
     "name": "stdout",
     "output_type": "stream",
     "text": [
      "The shape of the image is:  (512, 512, 3)\n"
     ]
    },
    {
     "ename": "TypeError",
     "evalue": "imshow() missing required argument 'mat' (pos 2)",
     "output_type": "error",
     "traceback": [
      "\u001b[1;31m---------------------------------------------------------------------------\u001b[0m",
      "\u001b[1;31mTypeError\u001b[0m                                 Traceback (most recent call last)",
      "Cell \u001b[1;32mIn [45], line 5\u001b[0m\n\u001b[0;32m      1\u001b[0m image \u001b[38;5;241m=\u001b[39m cv2\u001b[38;5;241m.\u001b[39mimread(\u001b[38;5;124m'\u001b[39m\u001b[38;5;124mlena.tif\u001b[39m\u001b[38;5;124m'\u001b[39m)\n\u001b[0;32m      3\u001b[0m \u001b[38;5;28mprint\u001b[39m(\u001b[38;5;124m\"\u001b[39m\u001b[38;5;124mThe shape of the image is: \u001b[39m\u001b[38;5;124m\"\u001b[39m, image\u001b[38;5;241m.\u001b[39mshape)\n\u001b[1;32m----> 5\u001b[0m \u001b[43mcv2\u001b[49m\u001b[38;5;241;43m.\u001b[39;49m\u001b[43mimshow\u001b[49m\u001b[43m(\u001b[49m\u001b[43mimage\u001b[49m\u001b[43m,\u001b[49m\u001b[43m \u001b[49m\u001b[43mcmap\u001b[49m\u001b[38;5;241;43m=\u001b[39;49m\u001b[38;5;124;43m'\u001b[39;49m\u001b[38;5;124;43mgray\u001b[39;49m\u001b[38;5;124;43m'\u001b[39;49m\u001b[43m)\u001b[49m\n\u001b[0;32m      6\u001b[0m cv2\u001b[38;5;241m.\u001b[39mwaitKey()\n\u001b[0;32m      7\u001b[0m cv2\u001b[38;5;241m.\u001b[39mdestroyWindow(\u001b[38;5;124m\"\u001b[39m\u001b[38;5;124mlena.tif\u001b[39m\u001b[38;5;124m\"\u001b[39m)\n",
      "\u001b[1;31mTypeError\u001b[0m: imshow() missing required argument 'mat' (pos 2)"
     ]
    }
   ],
   "source": [
    "image = cv2.imread('lena.tif')\n",
    "\n",
    "print(\"The shape of the image is: \", image.shape)\n",
    "\n",
    "cv2.imshow(\"lena.tif\",image)\n",
    "cv2.waitKey()\n",
    "cv2.destroyWindow(\"lena.tif\")"
   ]
  },
  {
   "cell_type": "markdown",
   "id": "7cf21197",
   "metadata": {},
   "source": [
    "## 1. Simple averaging"
   ]
  },
  {
   "cell_type": "code",
   "execution_count": 42,
   "id": "8afe7461",
   "metadata": {},
   "outputs": [],
   "source": [
    "b = image[:,:,0]\n",
    "g = image[:,:,1]\n",
    "r = image[:,:,2]\n",
    "\n",
    "simple_avg = (b + g + r)/3.\n",
    "\n",
    "cv2.imshow(\"lena.tif\", simple_avg)\n",
    "cv2.waitKey()\n",
    "cv2.destroyWindow(\"lena.tif\")"
   ]
  },
  {
   "cell_type": "markdown",
   "id": "4ff9f2e8",
   "metadata": {},
   "source": [
    "## 2. Weighted average"
   ]
  },
  {
   "cell_type": "code",
   "execution_count": 39,
   "id": "cad1b644",
   "metadata": {},
   "outputs": [],
   "source": [
    "gray = lambda rgb : np.dot(rgb[... , :3] , [0.299 , 0.587, 0.114]) \n",
    "weighted_avg1 = gray(image)  \n",
    "\n",
    "cv2.imshow(\"lena.tif\",weighted_avg1)\n",
    "cv2.waitKey()\n",
    "cv2.destroyWindow(\"lena.tif\")"
   ]
  },
  {
   "cell_type": "code",
   "execution_count": null,
   "id": "19a7f18e",
   "metadata": {},
   "outputs": [],
   "source": []
  }
 ],
 "metadata": {
  "kernelspec": {
   "display_name": "Python 3 (ipykernel)",
   "language": "python",
   "name": "python3"
  },
  "language_info": {
   "codemirror_mode": {
    "name": "ipython",
    "version": 3
   },
   "file_extension": ".py",
   "mimetype": "text/x-python",
   "name": "python",
   "nbconvert_exporter": "python",
   "pygments_lexer": "ipython3",
   "version": "3.9.15"
  }
 },
 "nbformat": 4,
 "nbformat_minor": 5
}
