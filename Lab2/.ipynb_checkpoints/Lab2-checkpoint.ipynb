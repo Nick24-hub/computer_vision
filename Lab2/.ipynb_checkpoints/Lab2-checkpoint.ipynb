{
 "cells": [
  {
   "cell_type": "code",
   "execution_count": 1,
   "id": "fb1328e4",
   "metadata": {},
   "outputs": [],
   "source": [
    "import cv2\n",
    "import numpy as np"
   ]
  },
  {
   "cell_type": "code",
   "execution_count": 2,
   "id": "fb172bc1",
   "metadata": {},
   "outputs": [
    {
     "name": "stdout",
     "output_type": "stream",
     "text": [
      "The shape of the image is:  (512, 512, 3)\n"
     ]
    }
   ],
   "source": [
    "image = cv2.imread('lena.tif')\n",
    "\n",
    "print(\"The shape of the image is: \", image.shape)\n",
    "\n",
    "cv2.imshow(\"lena.tif\",image)\n",
    "cv2.waitKey()\n",
    "cv2.destroyWindow(\"lena.tif\")"
   ]
  },
  {
   "cell_type": "markdown",
   "id": "b0a109c0",
   "metadata": {},
   "source": [
    "## 1. Simple averaging"
   ]
  },
  {
   "cell_type": "code",
   "execution_count": 3,
   "id": "cfee8797",
   "metadata": {},
   "outputs": [],
   "source": [
    "image = cv2.imread('lena.tif')\n",
    "blue = image[:,:,0]\n",
    "green = image[:,:,1]\n",
    "red = image[:,:,2]\n",
    "simple_avg = image\n",
    "\n",
    "Average_Gray = blue/3+green/3+red/3\n",
    "simple_avg[: , :, 0] = simple_avg[: , :, 1] =  simple_avg[: , :, 2] = Average_Gray[:, :]\n",
    "\n",
    "cv2.imshow(\"lena.tif\", simple_avg)\n",
    "cv2.waitKey()\n",
    "cv2.destroyWindow(\"lena.tif\")"
   ]
  },
  {
   "cell_type": "markdown",
   "id": "e8087001",
   "metadata": {},
   "source": [
    "## 2. Weighted average"
   ]
  },
  {
   "cell_type": "code",
   "execution_count": 4,
   "id": "8531af07",
   "metadata": {},
   "outputs": [],
   "source": [
    "image = cv2.imread('lena.tif')\n",
    "blue = image[:,:,0]\n",
    "green = image[:,:,1]\n",
    "red = image[:,:,2]\n",
    "weighted_gray1 = (0.11 * blue) + (0.59 * green) + (0.3 * red)\n",
    "\n",
    "weighted_avg1 = image  \n",
    "weighted_avg1[: , :, 0] = weighted_avg1[: , :, 1] =  weighted_avg1[: , :, 2] = weighted_gray1[:, :]\n",
    "\n",
    "cv2.imshow(\"lena.tif\",weighted_avg1)\n",
    "cv2.waitKey()\n",
    "cv2.destroyWindow(\"lena.tif\")"
   ]
  },
  {
   "cell_type": "code",
   "execution_count": 5,
   "id": "1fa37f2e",
   "metadata": {},
   "outputs": [],
   "source": [
    "image = cv2.imread('lena.tif')\n",
    "blue = image[:,:,0]\n",
    "green = image[:,:,1]\n",
    "red = image[:,:,2]\n",
    "weighted_gray2 = (0.0722 * blue) + (0.7152 * green) + (0.2126 * red)\n",
    "\n",
    "weighted_avg2 = image  \n",
    "weighted_avg2[: , :, 0] = weighted_avg2[: , :, 1] =  weighted_avg2[: , :, 2] = weighted_gray2[:, :]\n",
    "\n",
    "\n",
    "cv2.imshow(\"lena.tif\",weighted_avg2)\n",
    "cv2.waitKey()\n",
    "cv2.destroyWindow(\"lena.tif\")"
   ]
  },
  {
   "cell_type": "code",
   "execution_count": 6,
   "id": "ff6c84b9",
   "metadata": {},
   "outputs": [],
   "source": [
    "image = cv2.imread('lena.tif')\n",
    "blue = image[:,:,0]\n",
    "green = image[:,:,1]\n",
    "red = image[:,:,2]\n",
    "weighted_gray3 = (0.114 * blue) + (0.587 * green) + (0.299 * red)\n",
    "\n",
    "weighted_avg3 = image  \n",
    "weighted_avg3[: , :, 0] = weighted_avg3[: , :, 1] =  weighted_avg3[: , :, 2] = weighted_gray3[:, :]\n",
    "\n",
    "\n",
    "cv2.imshow(\"lena.tif\",weighted_avg3)\n",
    "cv2.waitKey()\n",
    "cv2.destroyWindow(\"lena.tif\")"
   ]
  },
  {
   "cell_type": "markdown",
   "id": "962c5bac",
   "metadata": {},
   "source": [
    "## 3. Desaturation"
   ]
  },
  {
   "cell_type": "code",
   "execution_count": 7,
   "id": "b769bda5",
   "metadata": {},
   "outputs": [],
   "source": [
    "image = cv2.imread('lena.tif')\n",
    "\n",
    "desaturation = image\n",
    "for i in range(len(image)):\n",
    "    for j in range(len(image[0])):\n",
    "        for c in range(3):\n",
    "            desaturation[i][j][c] = min(image[i][j][0], image[i][j][1], image[i][j][2])/2 + max(image[i][j][0], image[i][j][1], image[i][j][2])/2\n",
    "\n",
    "cv2.imshow(\"lena.tif\",desaturation)\n",
    "cv2.waitKey()\n",
    "cv2.destroyWindow(\"lena.tif\")"
   ]
  },
  {
   "cell_type": "markdown",
   "id": "260bc603",
   "metadata": {},
   "source": [
    "## 4. Decomposition"
   ]
  },
  {
   "cell_type": "code",
   "execution_count": 8,
   "id": "38373299",
   "metadata": {},
   "outputs": [],
   "source": [
    "image = cv2.imread('lena.tif')\n",
    "\n",
    "max_decomposition = image\n",
    "for i in range(len(image)):\n",
    "    for j in range(len(image[0])):\n",
    "        for c in range(3):\n",
    "            max_decomposition[i][j][c] = max(image[i][j][0], image[i][j][1], image[i][j][2])\n",
    "\n",
    "cv2.imshow(\"lena.tif\",max_decomposition)\n",
    "cv2.waitKey()\n",
    "cv2.destroyWindow(\"lena.tif\")"
   ]
  },
  {
   "cell_type": "code",
   "execution_count": 9,
   "id": "1e08c63a",
   "metadata": {},
   "outputs": [],
   "source": [
    "image = cv2.imread('lena.tif')\n",
    "\n",
    "min_decomposition = image\n",
    "for i in range(len(image)):\n",
    "    for j in range(len(image[0])):\n",
    "        for c in range(3):\n",
    "            min_decomposition[i][j][c] = min(image[i][j][0], image[i][j][1], image[i][j][2])\n",
    "\n",
    "cv2.imshow(\"lena.tif\",min_decomposition)\n",
    "cv2.waitKey()\n",
    "cv2.destroyWindow(\"lena.tif\")"
   ]
  },
  {
   "cell_type": "markdown",
   "id": "2b7b81e7",
   "metadata": {},
   "source": [
    "## 5. Single color channel "
   ]
  },
  {
   "cell_type": "code",
   "execution_count": 10,
   "id": "c9c1879b",
   "metadata": {},
   "outputs": [],
   "source": [
    "image = cv2.imread('lena.tif')\n",
    "\n",
    "red = image[:,:,2]\n",
    "\n",
    "red_image = image  \n",
    "red_image[: , :, 0] = red_image[: , :, 1] =  red_image[: , :, 2] = red[:, :]\n",
    "      \n",
    "cv2.imshow(\"lena.tif\",red_image)\n",
    "cv2.waitKey()\n",
    "cv2.destroyWindow(\"lena.tif\")"
   ]
  },
  {
   "cell_type": "code",
   "execution_count": 11,
   "id": "b870eb78",
   "metadata": {},
   "outputs": [],
   "source": [
    "image = cv2.imread('lena.tif')\n",
    "\n",
    "green = image[:,:,1]\n",
    "\n",
    "green_image = image  \n",
    "green_image[: , :, 0] = green_image[: , :, 1] =  green_image[: , :, 2] = green[:, :]\n",
    "      \n",
    "cv2.imshow(\"lena.tif\",green_image)\n",
    "cv2.waitKey()\n",
    "cv2.destroyWindow(\"lena.tif\")"
   ]
  },
  {
   "cell_type": "code",
   "execution_count": 12,
   "id": "92ffeef4",
   "metadata": {},
   "outputs": [],
   "source": [
    "image = cv2.imread('lena.tif')\n",
    "\n",
    "blue = image[:,:,0]\n",
    "\n",
    "blue_image = image  \n",
    "blue_image[: , :, 0] = blue_image[: , :, 1] =  blue_image[: , :, 2] = blue[:, :]\n",
    "      \n",
    "cv2.imshow(\"lena.tif\",blue_image)\n",
    "cv2.waitKey()\n",
    "cv2.destroyWindow(\"lena.tif\")"
   ]
  },
  {
   "cell_type": "markdown",
   "id": "fd76f866",
   "metadata": {},
   "source": [
    "## 6. Custom number of grey shades"
   ]
  },
  {
   "cell_type": "code",
   "execution_count": 13,
   "id": "47bf7e7f",
   "metadata": {},
   "outputs": [
    {
     "name": "stdout",
     "output_type": "stream",
     "text": [
      "values: [15, 46, 77, 108, 139, 170, 201, 232]\n"
     ]
    }
   ],
   "source": [
    "image = cv2.imread('lena.tif')\n",
    "blue = image[:,:,0]\n",
    "green = image[:,:,1]\n",
    "red = image[:,:,2]\n",
    "weighted_gray1 = (0.11 * blue) + (0.59 * green) + (0.3 * red)\n",
    "\n",
    "weighted_avg1 = image  \n",
    "weighted_avg1[: , :, 0] = weighted_avg1[: , :, 1] =  weighted_avg1[: , :, 2] = weighted_gray1[:, :]\n",
    "\n",
    "custom_gray_image = weighted_avg1\n",
    "p = 8\n",
    "step = 255 // p\n",
    "values = [] \n",
    "for interval in range(p):\n",
    "    values.append(interval * step + step // 2)\n",
    "print(f\"values: {values}\")\n",
    "    \n",
    "for i in range(len(image)):\n",
    "    for j in range(len(image[0])):\n",
    "        interval = 0\n",
    "        while interval + 1 < p and custom_gray_image[i][j][0] > values[interval + 1]:\n",
    "            interval += 1                                 \n",
    "        custom_gray_image[i][j][0] = custom_gray_image[i][j][1] =  custom_gray_image[i][j][2] = values[interval]\n",
    "\n",
    "cv2.imshow(\"lena.tif\",custom_gray_image)\n",
    "cv2.waitKey()\n",
    "cv2.destroyWindow(\"lena.tif\")"
   ]
  },
  {
   "cell_type": "markdown",
   "id": "a86091bb",
   "metadata": {},
   "source": [
    "## 7. Custom number of grey shades with error-diffusion dithering"
   ]
  },
  {
   "cell_type": "markdown",
   "id": "4be43bcf",
   "metadata": {},
   "source": [
    "## Floyd-Steinberg algorithm"
   ]
  },
  {
   "cell_type": "code",
   "execution_count": 24,
   "id": "19ecb5b1",
   "metadata": {},
   "outputs": [],
   "source": [
    "def floyd_steinberg_dithering(image):\n",
    "    height = len(image)\n",
    "    width = len(image[0])\n",
    "    for y in range(height):\n",
    "        for x in range(width):\n",
    "            old_pixel = image[y][x][0]\n",
    "            new_pixel = 255 if old_pixel >= 128 else 0\n",
    "            image[y][x][0] = image[y][x][1] = image[y][x][2] = new_pixel\n",
    "            error = old_pixel - new_pixel\n",
    "\n",
    "            if x < width - 1:\n",
    "                # Right\n",
    "                image[y][x + 1][0] = image[y][x + 1][1] = image[y][x + 1][2] = image[y][x + 1][0] + error * 7 / 16\n",
    "\n",
    "            if x > 0 and y < height - 1:\n",
    "                # Bottom-left\n",
    "                image[y + 1][x - 1][0] = image[y + 1][x - 1][1] = image[y + 1][x - 1][2] = image[y + 1][x - 1][0] + error * 3 / 16\n",
    "\n",
    "            if y < height - 1:\n",
    "                # Bottom\n",
    "                image[y + 1][x][0] = image[y + 1][x][1] = image[y + 1][x][2] = image[y + 1][x][0] + error * 5 / 16\n",
    "\n",
    "            if x < width - 1 and y < height - 1:\n",
    "                # Bottom-right\n",
    "                image[y + 1][x + 1][0] = image[y + 1][x + 1][1] = image[y + 1][x + 1][2] = image[y + 1][x + 1][0] + error * 1 / 16\n",
    "\n",
    "    return image\n",
    "\n",
    "image = cv2.imread('lena.tif')\n",
    "\n",
    "blue = image[:,:,0]\n",
    "green = image[:,:,1]\n",
    "red = image[:,:,2]\n",
    "weighted_gray1 = (0.11 * blue) + (0.59 * green) + (0.3 * red)\n",
    "\n",
    "weighted_avg1 = image  \n",
    "weighted_avg1[: , :, 0] = weighted_avg1[: , :, 1] =  weighted_avg1[: , :, 2] = weighted_gray1[:, :]\n",
    "\n",
    "\n",
    "floyd_dithering_image = floyd_steinberg_dithering(weighted_avg1)\n",
    "      \n",
    "cv2.imshow(\"lena.tif\",floyd_dithering_image)\n",
    "cv2.waitKey()\n",
    "cv2.destroyWindow(\"lena.tif\")"
   ]
  },
  {
   "cell_type": "markdown",
   "id": "0210df2c",
   "metadata": {},
   "source": [
    "## Burkes algorithm"
   ]
  },
  {
   "cell_type": "code",
   "execution_count": 25,
   "id": "11276dfc",
   "metadata": {},
   "outputs": [],
   "source": [
    "def burkes_dithering(image):\n",
    "    height = len(image)\n",
    "    width = len(image[0])\n",
    "    for y in range(height):\n",
    "        for x in range(width):\n",
    "            old_pixel = image[y][x][0]\n",
    "            new_pixel = 255 if old_pixel >= 128 else 0\n",
    "            image[y][x][0] = image[y][x][1] = image[y][x][2] = new_pixel\n",
    "            error = old_pixel - new_pixel\n",
    "            \n",
    "            if x < width - 1:\n",
    "                # Right 1\n",
    "                image[y][x + 1][0] = image[y][x + 1][1] = image[y][x + 1][2] = image[y][x + 1][0] + error * 8 / 32\n",
    "\n",
    "            if x < width - 2:\n",
    "                # Right 2\n",
    "                image[y][x + 2][0] = image[y][x + 2][1] = image[y][x + 2][2] = image[y][x + 2][0] + error * 4 / 32\n",
    "\n",
    "            if x > 1 and y < height - 1:\n",
    "                # Bottom-left 2\n",
    "                image[y + 1][x - 2][0] = image[y + 1][x - 2][1] = image[y + 1][x - 2][2] = image[y + 1][x - 2][0] + error * 2 / 32\n",
    "\n",
    "            if x > 0 and y < height - 1:\n",
    "                # Bottom-left 1\n",
    "                image[y + 1][x - 1][0] = image[y + 1][x - 1][1] = image[y + 1][x - 1][2] = image[y + 1][x - 1][0] + error * 4 / 32\n",
    "\n",
    "            if y < height - 1:\n",
    "                # Bottom\n",
    "                image[y + 1][x][0] = image[y + 1][x][1] = image[y + 1][x][2] = image[y + 1][x][0] + error * 8 / 32\n",
    "            \n",
    "            if x < width - 1 and y < height - 1:\n",
    "                # Bottom-Right 1\n",
    "                image[y + 1][x + 1][0] = image[y + 1][x + 1][1] = image[y + 1][x + 1][2] = image[y + 1][x + 1][0] + error * 4 / 32\n",
    "\n",
    "            if x < width - 2 and y < height - 1:\n",
    "                # Bottom-Right 2\n",
    "                image[y + 1][x + 2][0] = image[y + 1][x + 2][1] = image[y + 1][x + 2][2] = image[y + 1][x + 2][0] + error * 2 / 32\n",
    "\n",
    "    return image\n",
    "\n",
    "image = cv2.imread('lena.tif')\n",
    "\n",
    "blue = image[:,:,0]\n",
    "green = image[:,:,1]\n",
    "red = image[:,:,2]\n",
    "weighted_gray1 = (0.11 * blue) + (0.59 * green) + (0.3 * red)\n",
    "\n",
    "weighted_avg1 = image  \n",
    "weighted_avg1[: , :, 0] = weighted_avg1[: , :, 1] =  weighted_avg1[: , :, 2] = weighted_gray1[:, :]\n",
    "\n",
    "\n",
    "burkes_dithering_image = burkes_dithering(weighted_avg1)\n",
    "      \n",
    "cv2.imshow(\"lena.tif\", burkes_dithering_image)\n",
    "cv2.waitKey()\n",
    "cv2.destroyWindow(\"lena.tif\")"
   ]
  },
  {
   "cell_type": "code",
   "execution_count": null,
   "id": "ad8a0d4d",
   "metadata": {},
   "outputs": [],
   "source": []
  }
 ],
 "metadata": {
  "kernelspec": {
   "display_name": "Python 3 (ipykernel)",
   "language": "python",
   "name": "python3"
  },
  "language_info": {
   "codemirror_mode": {
    "name": "ipython",
    "version": 3
   },
   "file_extension": ".py",
   "mimetype": "text/x-python",
   "name": "python",
   "nbconvert_exporter": "python",
   "pygments_lexer": "ipython3",
   "version": "3.9.15"
  }
 },
 "nbformat": 4,
 "nbformat_minor": 5
}
