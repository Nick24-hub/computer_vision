{
 "cells": [
  {
   "cell_type": "code",
   "execution_count": 1,
   "id": "3fddc327",
   "metadata": {},
   "outputs": [],
   "source": [
    "import cv2\n",
    "import numpy as np"
   ]
  },
  {
   "cell_type": "code",
   "execution_count": 2,
   "id": "a1d9db93",
   "metadata": {},
   "outputs": [
    {
     "name": "stdout",
     "output_type": "stream",
     "text": [
      "The shape of the image is:  (512, 512, 3)\n",
      "The height of the image is:  512\n",
      "The width of the image is:  512\n",
      "The shape of the image is:  (512, 512, 3)\n",
      "The height of the image is:  512\n",
      "The width of the image is:  512\n",
      "The shape of the image is:  (512, 512, 3)\n",
      "The height of the image is:  512\n",
      "The width of the image is:  512\n"
     ]
    }
   ],
   "source": [
    "image = cv2.imread('lena.tif')\n",
    "\n",
    "print(\"The shape of the image is: \", image.shape)\n",
    "\n",
    "height, width = image.shape[:2]\n",
    "  \n",
    "print(\"The height of the image is: \", height)\n",
    "print(\"The width of the image is: \", width)\n",
    "\n",
    "cv2.imshow(\"lena.tif\",image)\n",
    "cv2.waitKey()\n",
    "cv2.destroyWindow(\"lena.tif\")"
   ]
  },
  {
   "cell_type": "code",
   "execution_count": 3,
   "id": "2e1f4745",
   "metadata": {},
   "outputs": [],
   "source": [
    "kernel_blur = np.ones((8, 8), np.float32) / 64\n",
    "img_blur = cv2.filter2D(src=image, ddepth=-1, kernel=kernel_blur)\n",
    " \n",
    "cv2.imshow('Blur image', img_blur)\n",
    "     \n",
    "cv2.waitKey()\n",
    "cv2.destroyAllWindows()"
   ]
  },
  {
   "cell_type": "code",
   "execution_count": 4,
   "id": "d8fd3268",
   "metadata": {},
   "outputs": [],
   "source": [
    "filter = np.array([[0, -2, 0],\n",
    "                   [-2, 8, -2],\n",
    "                   [0, -2, 0]])\n",
    "\n",
    "img_filtered = cv2.filter2D(src=image, ddepth=-1, kernel=filter)\n",
    " \n",
    "cv2.imshow('Filtered image', img_filtered)\n",
    "     \n",
    "cv2.waitKey()\n",
    "cv2.destroyAllWindows()"
   ]
  },
  {
   "cell_type": "code",
   "execution_count": 5,
   "id": "cb36a501",
   "metadata": {},
   "outputs": [],
   "source": [
    "clockwise_rotated_image = cv2.rotate(image, cv2.ROTATE_90_CLOCKWISE)\n",
    "\n",
    "cv2.imshow('Clockwise rotated image', clockwise_rotated_image)\n",
    "     \n",
    "cv2.waitKey()\n",
    "cv2.destroyAllWindows()"
   ]
  },
  {
   "cell_type": "code",
   "execution_count": 6,
   "id": "1fcab5f8",
   "metadata": {},
   "outputs": [],
   "source": [
    "counter_clockwise_rotated_image = cv2.rotate(image, cv2.ROTATE_90_COUNTERCLOCKWISE)\n",
    "\n",
    "cv2.imshow('Coutner clockwise rotated image', counter_clockwise_rotated_image)\n",
    "     \n",
    "cv2.waitKey()\n",
    "cv2.destroyAllWindows()"
   ]
  },
  {
   "cell_type": "code",
   "execution_count": 7,
   "id": "e205e831",
   "metadata": {},
   "outputs": [],
   "source": [
    "def cropp_image(image, start_point, heigth, width):\n",
    "  return image[start_point[0]:heigth, start_point[1]:width]\n",
    "\n",
    "cropped_image = cropp_image(image, (80,150), 280, 330)\n",
    "\n",
    "cv2.imshow('Cropped image', cropped_image)\n",
    "     \n",
    "cv2.waitKey()\n",
    "cv2.destroyAllWindows()\n"
   ]
  },
  {
   "cell_type": "code",
   "execution_count": 8,
   "id": "6a0a4fce",
   "metadata": {},
   "outputs": [],
   "source": [
    "emoji = np.zeros((512,512,3)) + 255\n",
    "  \n",
    "color = (255, 0, 0)\n",
    "  \n",
    "thickness = 2\n",
    "\n",
    "emoji = cv2.rectangle(emoji, (100, 100), (412, 412), color, thickness)\n",
    " \n",
    "radius = 30\n",
    "\n",
    "emoji = cv2.circle(emoji,(180, 180), radius, color, thickness)\n",
    "emoji = cv2.circle(emoji,(512-180, 180), radius, color, thickness)\n",
    "emoji = cv2.line(emoji, (256, 215), (256, 235), color, thickness)\n",
    "emoji = cv2.line(emoji, (200, 300), (312, 300), color, thickness)\n",
    "\n",
    "cv2.imshow('Emoji', emoji)\n",
    "     \n",
    "cv2.waitKey()\n",
    "\n",
    "cv2.imwrite(\"alexandrescu_nicolae.jpg\", emoji)\n",
    "cv2.destroyAllWindows()"
   ]
  },
  {
   "cell_type": "code",
   "execution_count": null,
   "id": "eebc1bfe",
   "metadata": {},
   "outputs": [],
   "source": []
  }
 ],
 "metadata": {
  "kernelspec": {
   "display_name": "Python 3 (ipykernel)",
   "language": "python",
   "name": "python3"
  },
  "language_info": {
   "codemirror_mode": {
    "name": "ipython",
    "version": 3
   },
   "file_extension": ".py",
   "mimetype": "text/x-python",
   "name": "python",
   "nbconvert_exporter": "python",
   "pygments_lexer": "ipython3",
   "version": "3.9.15"
  }
 },
 "nbformat": 4,
 "nbformat_minor": 5
}
